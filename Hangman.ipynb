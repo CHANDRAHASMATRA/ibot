{
 "cells": [
  {
   "cell_type": "code",
   "execution_count": 1,
   "metadata": {},
   "outputs": [],
   "source": [
    "def Hangman():\n",
    "    import random\n",
    "    words={'profession':'actor','game':'badminton','food':'popcorn','music':'violin','food':'fry','countries':'ireland','school':'pencil'}\n",
    "    hint=random.choice(list(words.keys()))\n",
    "    answer=words[hint]\n",
    "    print(\"hint:\"+hint)\n",
    "    user=\"_ \"*len(answer)\n",
    "    print(user)\n",
    "    a=[]\n",
    "    n=1\n",
    "    for i in answer:\n",
    "        a.append(i)\n",
    "    show=[]\n",
    "    for i in range(len(a)):\n",
    "        show.append(\"_\") \n",
    "    u=set(a)    \n",
    "    while n<((len(u)+2)):\n",
    "        n=n+1\n",
    "        user=input(\"Enter Your answer here:\")\n",
    "        us=user.lower()\n",
    "        if us in a:\n",
    "            for i in range(len(a)):\n",
    "                 if a[i]==us:\n",
    "                    print(\"Good Go on\")   \n",
    "                    show[i]=us\n",
    "            if show==a:\n",
    "                print(a)\n",
    "                print(\"you won!\")\n",
    "                break\n",
    "            else:\n",
    "                pass\n",
    "            print(show)\n",
    "        else:\n",
    "            print(\"You got it wrong Tryagain\")\n",
    "    print(\"You Loose\") \n",
    "    print(a)\n",
    "    playagain()        \n",
    "            \n",
    "            \n",
    "        \n",
    "            \n",
    "            \n",
    "    \n",
    "    "
   ]
  },
  {
   "cell_type": "raw",
   "metadata": {},
   "source": []
  },
  {
   "cell_type": "code",
   "execution_count": 2,
   "metadata": {},
   "outputs": [],
   "source": [
    "def playagain():\n",
    "    x=input(\"Do you what to play again yes/no:\")\n",
    "    if x==\"yes\":\n",
    "        Hangman()\n",
    "    elif x==\"no\":\n",
    "        print(\"Thankyou\")\n",
    "    else:\n",
    "        print(\"please enter valid text\")\n",
    "        playagain()\n"
   ]
  },
  {
   "cell_type": "code",
   "execution_count": 4,
   "metadata": {},
   "outputs": [
    {
     "name": "stdout",
     "output_type": "stream",
     "text": [
      "hint:food\n",
      "_ _ _ \n",
      "Enter Your answer here:f\n",
      "Good Go on\n",
      "['f', '_', '_']\n",
      "Enter Your answer here:r\n",
      "Good Go on\n",
      "['f', 'r', '_']\n",
      "Enter Your answer here:g\n",
      "You got it wrong Tryagain\n",
      "Enter Your answer here:a\n",
      "You got it wrong Tryagain\n",
      "You Loose\n",
      "['f', 'r', 'y']\n",
      "Do you what to play again yes/no:no\n",
      "Thankyou\n"
     ]
    }
   ],
   "source": [
    "Hangman()"
   ]
  },
  {
   "cell_type": "code",
   "execution_count": null,
   "metadata": {},
   "outputs": [],
   "source": []
  },
  {
   "cell_type": "code",
   "execution_count": null,
   "metadata": {},
   "outputs": [],
   "source": []
  },
  {
   "cell_type": "code",
   "execution_count": null,
   "metadata": {},
   "outputs": [],
   "source": []
  },
  {
   "cell_type": "code",
   "execution_count": null,
   "metadata": {},
   "outputs": [],
   "source": []
  },
  {
   "cell_type": "code",
   "execution_count": null,
   "metadata": {},
   "outputs": [],
   "source": []
  }
 ],
 "metadata": {
  "kernelspec": {
   "display_name": "Python 3",
   "language": "python",
   "name": "python3"
  },
  "language_info": {
   "codemirror_mode": {
    "name": "ipython",
    "version": 3
   },
   "file_extension": ".py",
   "mimetype": "text/x-python",
   "name": "python",
   "nbconvert_exporter": "python",
   "pygments_lexer": "ipython3",
   "version": "3.7.3"
  }
 },
 "nbformat": 4,
 "nbformat_minor": 2
}
